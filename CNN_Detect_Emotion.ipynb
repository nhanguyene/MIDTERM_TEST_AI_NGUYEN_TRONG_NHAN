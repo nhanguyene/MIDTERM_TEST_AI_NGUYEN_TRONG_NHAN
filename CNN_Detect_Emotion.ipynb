{
  "nbformat": 4,
  "nbformat_minor": 0,
  "metadata": {
    "colab": {
      "name": "CNN_Detect_Emotion",
      "provenance": [],
      "collapsed_sections": [],
      "mount_file_id": "1Mk6oT5RcTkiiI4rl93tJFxUh6Q8RBoZN",
      "authorship_tag": "ABX9TyPWnxTtvSV/tiEQ0E1HgDJZ",
      "include_colab_link": true
    },
    "kernelspec": {
      "name": "python3",
      "display_name": "Python 3"
    },
    "language_info": {
      "name": "python"
    },
    "accelerator": "GPU"
  },
  "cells": [
    {
      "cell_type": "markdown",
      "metadata": {
        "id": "view-in-github",
        "colab_type": "text"
      },
      "source": [
        "<a href=\"https://colab.research.google.com/github/nhanguyene/MIDTERM_TEST_AI_NGUYEN_TRONG_NHAN/blob/main/CNN_Detect_Emotion.ipynb\" target=\"_parent\"><img src=\"https://colab.research.google.com/assets/colab-badge.svg\" alt=\"Open In Colab\"/></a>"
      ]
    },
    {
      "cell_type": "code",
      "execution_count": 12,
      "metadata": {
        "id": "4VzUgEU1kqm_"
      },
      "outputs": [],
      "source": [
        "#Import libraries\n",
        "import glob\n",
        "import cv2\n",
        "import pandas as pd\n",
        "import numpy as np\n",
        "import tensorflow as tf\n",
        "import matplotlib.pyplot as plt\n",
        "from random import randint\n",
        "from keras.utils import np_utils\n",
        "from keras.models import Sequential, load_model\n",
        "from keras.layers import Dense, Flatten, Dropout, Conv2D, MaxPooling2D\n",
        "from tensorflow.keras.optimizers import RMSprop, SGD, Adam\n",
        "from tensorflow.keras.preprocessing.image import load_img, img_to_array\n",
        "from tensorflow.keras.preprocessing.image import ImageDataGenerator"
      ]
    },
    {
      "cell_type": "code",
      "source": [
        "#Connect with my drive\n",
        "from google.colab import drive\n",
        "drive.mount('/content/drive')"
      ],
      "metadata": {
        "colab": {
          "base_uri": "https://localhost:8080/"
        },
        "id": "ZuS6bQaTk110",
        "outputId": "3a800cb9-be10-4d70-96b8-fd1a381fd844"
      },
      "execution_count": 25,
      "outputs": [
        {
          "output_type": "stream",
          "name": "stdout",
          "text": [
            "Drive already mounted at /content/drive; to attempt to forcibly remount, call drive.mount(\"/content/drive\", force_remount=True).\n"
          ]
        }
      ]
    },
    {
      "cell_type": "code",
      "source": [
        "#Get dataset from drive\n",
        "train=ImageDataGenerator(rescale=1/255)\n",
        "validation=ImageDataGenerator(rescale=1/255)\n",
        "training_set=train.flow_from_directory('/content/drive/MyDrive/AI/NEW/Emotion/train/train',target_size=(150,150), batch_size=40, class_mode='categorical')\n",
        "validation_set=validation.flow_from_directory('/content/drive/MyDrive/AI/NEW/Emotion/train/val',target_size=(150,150), batch_size=40, class_mode='categorical')"
      ],
      "metadata": {
        "colab": {
          "base_uri": "https://localhost:8080/"
        },
        "id": "Rt234GJ2k6EK",
        "outputId": "cdaf99c8-1773-4f47-f2c6-ef731df4306f"
      },
      "execution_count": 26,
      "outputs": [
        {
          "output_type": "stream",
          "name": "stdout",
          "text": [
            "Found 60 images belonging to 4 classes.\n",
            "Found 48 images belonging to 4 classes.\n"
          ]
        }
      ]
    },
    {
      "cell_type": "code",
      "source": [
        "#Check label of dataset\n",
        "training_set.class_indices"
      ],
      "metadata": {
        "colab": {
          "base_uri": "https://localhost:8080/"
        },
        "id": "AQk0ZiL3l8Kt",
        "outputId": "d054c75a-9c1f-414a-e719-ff108b1f47e6"
      },
      "execution_count": 27,
      "outputs": [
        {
          "output_type": "execute_result",
          "data": {
            "text/plain": [
              "{'Disgust': 0, 'Fear': 1, 'Happy': 2, 'Surprise': 3}"
            ]
          },
          "metadata": {},
          "execution_count": 27
        }
      ]
    },
    {
      "cell_type": "code",
      "source": [
        "#Create Model for train\n",
        "model = Sequential()\n",
        "model.add(Conv2D(16,(3,3),padding='same',kernel_initializer='he_normal',input_shape=(150,150,3)))\n",
        "model.add(MaxPooling2D(pool_size=(2,2)))\n",
        "\n",
        "model.add(Conv2D(32,(3,3),padding='same',kernel_initializer='he_normal'))\n",
        "model.add(MaxPooling2D(pool_size=(2,2)))\n",
        "\n",
        "model.add(Conv2D(64,(3,3),padding='same',kernel_initializer='he_normal'))\n",
        "model.add(MaxPooling2D(pool_size=(2,2)))\n",
        "\n",
        "\n",
        "model.add(Flatten())\n",
        "model.add(Dense(512,activation='relu',kernel_initializer='he_normal'))\n",
        "model.add(Dense(10,activation='softmax'))\n",
        "model.summary()"
      ],
      "metadata": {
        "colab": {
          "base_uri": "https://localhost:8080/"
        },
        "id": "8kt0gRj9l_-y",
        "outputId": "cf3a52e8-8d1b-4741-d0ce-dd9e3ab74d7a"
      },
      "execution_count": 28,
      "outputs": [
        {
          "output_type": "stream",
          "name": "stdout",
          "text": [
            "Model: \"sequential_3\"\n",
            "_________________________________________________________________\n",
            " Layer (type)                Output Shape              Param #   \n",
            "=================================================================\n",
            " conv2d_9 (Conv2D)           (None, 150, 150, 16)      448       \n",
            "                                                                 \n",
            " max_pooling2d_9 (MaxPooling  (None, 75, 75, 16)       0         \n",
            " 2D)                                                             \n",
            "                                                                 \n",
            " conv2d_10 (Conv2D)          (None, 75, 75, 32)        4640      \n",
            "                                                                 \n",
            " max_pooling2d_10 (MaxPoolin  (None, 37, 37, 32)       0         \n",
            " g2D)                                                            \n",
            "                                                                 \n",
            " conv2d_11 (Conv2D)          (None, 37, 37, 64)        18496     \n",
            "                                                                 \n",
            " max_pooling2d_11 (MaxPoolin  (None, 18, 18, 64)       0         \n",
            " g2D)                                                            \n",
            "                                                                 \n",
            " flatten_3 (Flatten)         (None, 20736)             0         \n",
            "                                                                 \n",
            " dense_6 (Dense)             (None, 512)               10617344  \n",
            "                                                                 \n",
            " dense_7 (Dense)             (None, 10)                5130      \n",
            "                                                                 \n",
            "=================================================================\n",
            "Total params: 10,646,058\n",
            "Trainable params: 10,646,058\n",
            "Non-trainable params: 0\n",
            "_________________________________________________________________\n"
          ]
        }
      ]
    },
    {
      "cell_type": "code",
      "source": [
        "#Training\n",
        "opt = SGD(lr=0.01, momentum=0.9)\n",
        "model.compile(optimizer=RMSprop(),loss='categorical_crossentropy',metrics=['accuracy'])\n",
        "from keras.callbacks import EarlyStopping\n",
        "history = model.fit(training_set, epochs = 10, validation_data = validation_set, verbose=1, callbacks=[EarlyStopping(monitor='val_loss', patience=10)])"
      ],
      "metadata": {
        "id": "FMZW5hIIsP9K"
      },
      "execution_count": null,
      "outputs": []
    },
    {
      "cell_type": "code",
      "source": [
        "#Save a file after train\n",
        "model.save('CNN_EMOTION.h5')"
      ],
      "metadata": {
        "id": "jzotg2FnrDTj"
      },
      "execution_count": null,
      "outputs": []
    },
    {
      "cell_type": "code",
      "source": [
        "#Draw plot and evaluate\n",
        "score = model.evaluate(validation_set,verbose=0)\n",
        "print('Test error: ',score[0])\n",
        "print('Test accuracy: ',score[1])\n",
        "plt.plot(history.history['accuracy'])\n",
        "plt.plot(history.history['val_accuracy'])\n",
        "plt.ylabel('accuracy')\n",
        "plt.xlabel('epochs')\n",
        "plt.legend(['train','Validation'])\n",
        "plt.show()"
      ],
      "metadata": {
        "id": "2oa0Ujp-rHOx"
      },
      "execution_count": null,
      "outputs": []
    },
    {
      "cell_type": "code",
      "source": [
        "#Load trained file\n",
        "CNN_FRUIT =load_model('CNN_EMOTION.h5')"
      ],
      "metadata": {
        "id": "q5Ypr3ZOrIGB"
      },
      "execution_count": null,
      "outputs": []
    },
    {
      "cell_type": "code",
      "source": [
        "#Check detect\n",
        "img_path = '/content/drive/MyDrive/AI/NEW/Emotion/test/Fear/fear_face_31.jpeg'\n",
        "img=load_img(img_path,target_size=(150,150))\n",
        "plt.imshow(img)\n",
        "img=img_to_array(img)\n",
        "img=img.reshape(1,150,150,3)\n",
        "img=img.astype('float32')\n",
        "img=img/255\n",
        "Emotion=np.argmax(CNN_EMOTION.predict(img),axis=1)\n",
        "pred = model.predict(img)\n",
        "classes = ['Disgust','Fear','Happy','Surprise','plums']\n",
        "print(np.argmax(pred))\n",
        "if Emotion==0: print(classes[0])\n",
        "elif Emotion==1: print(classes[1])\n",
        "elif Emotion==2: print(classes[2])\n",
        "elif Emotion==3: print(classes[3])"
      ],
      "metadata": {
        "id": "rdMptOGZrN25"
      },
      "execution_count": null,
      "outputs": []
    }
  ]
}